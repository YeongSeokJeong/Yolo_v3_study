{
 "cells": [
  {
   "cell_type": "code",
   "execution_count": 2,
   "metadata": {},
   "outputs": [],
   "source": [
    "import numpy as np\n",
    "import sklearn\n",
    "import math\n",
    "import os\n",
    "import cv2\n",
    "import pickle as pkl"
   ]
  },
  {
   "cell_type": "code",
   "execution_count": 5,
   "metadata": {},
   "outputs": [],
   "source": [
    "dir_list = sorted(os.listdir(\"./output/\"))"
   ]
  },
  {
   "cell_type": "code",
   "execution_count": 11,
   "metadata": {},
   "outputs": [],
   "source": [
    "def read_file(path):\n",
    "    with open(path, 'rb') as f:\n",
    "        result = pkl.load(f)\n",
    "    return result"
   ]
  },
  {
   "cell_type": "code",
   "execution_count": 12,
   "metadata": {},
   "outputs": [],
   "source": [
    "output_list = [read_file('./output/' + file_name) for file_name in dir_list]"
   ]
  },
  {
   "cell_type": "code",
   "execution_count": 13,
   "metadata": {},
   "outputs": [
    {
     "data": {
      "text/plain": [
       "[[591.75, 377.8, 752.8, 541.0, 1, 1],\n",
       " [556.65, 119.98, 604.85, 164.04000000000002, 1, 1],\n",
       " [544.2, 87.27, 580.45, 118.35, 1, 1],\n",
       " [507.35, 66.5, 536.35, 93.425, 1, 1],\n",
       " [552.0, 69.095, 582.55, 89.78999999999999, 1, 1],\n",
       " [730.1, 113.23, 783.5, 154.18, 1, 1],\n",
       " [901.15, 249.12, 961.0, 358.11, 1, 1]]"
      ]
     },
     "execution_count": 13,
     "metadata": {},
     "output_type": "execute_result"
    }
   ],
   "source": [
    "output_list[0]"
   ]
  },
  {
   "cell_type": "code",
   "execution_count": 14,
   "metadata": {},
   "outputs": [],
   "source": [
    "all_box_value = []\n",
    "for boxes in output_list:\n",
    "    for box in boxes:\n",
    "        width = box[2]-box[0]\n",
    "        height = box[3] - box[1]\n",
    "        all_box_value.append([width,height])"
   ]
  },
  {
   "cell_type": "code",
   "execution_count": 30,
   "metadata": {},
   "outputs": [],
   "source": [
    "import numpy as np\n",
    "\n",
    "\n",
    "class YOLO_Kmeans:\n",
    "\n",
    "    def __init__(self, cluster_number, boxes):\n",
    "        self.cluster_number = cluster_number\n",
    "        self.boxes = boxes\n",
    "\n",
    "    def iou(self, boxes, clusters):  # 1 box -> k clusters\n",
    "        n = boxes.shape[0]\n",
    "        k = self.cluster_number\n",
    "\n",
    "        box_area = boxes[:, 0] * boxes[:, 1]\n",
    "        box_area = box_area.repeat(k)\n",
    "        box_area = np.reshape(box_area, (n, k))\n",
    "\n",
    "        cluster_area = clusters[:, 0] * clusters[:, 1]\n",
    "        cluster_area = np.tile(cluster_area, [1, n])\n",
    "        cluster_area = np.reshape(cluster_area, (n, k))\n",
    "\n",
    "        box_w_matrix = np.reshape(boxes[:, 0].repeat(k), (n, k))\n",
    "        cluster_w_matrix = np.reshape(np.tile(clusters[:, 0], (1, n)), (n, k))\n",
    "        min_w_matrix = np.minimum(cluster_w_matrix, box_w_matrix)\n",
    "\n",
    "        box_h_matrix = np.reshape(boxes[:, 1].repeat(k), (n, k))\n",
    "        cluster_h_matrix = np.reshape(np.tile(clusters[:, 1], (1, n)), (n, k))\n",
    "        min_h_matrix = np.minimum(cluster_h_matrix, box_h_matrix)\n",
    "        inter_area = np.multiply(min_w_matrix, min_h_matrix)\n",
    "\n",
    "        result = inter_area / (box_area + cluster_area - inter_area)\n",
    "        return result\n",
    "\n",
    "    def avg_iou(self, boxes, clusters):\n",
    "        accuracy = np.mean([np.max(self.iou(boxes, clusters), axis=1)])\n",
    "        return accuracy\n",
    "\n",
    "    def kmeans(self, boxes, k, dist=np.median):\n",
    "        box_number = boxes.shape[0]\n",
    "        distances = np.empty((box_number, k))\n",
    "        last_nearest = np.zeros((box_number,))\n",
    "        np.random.seed()\n",
    "        clusters = boxes[np.random.choice(\n",
    "            box_number, k, replace=False)]  # init k clusters\n",
    "        while True:\n",
    "\n",
    "            distances = 1 - self.iou(boxes, clusters)\n",
    "\n",
    "            current_nearest = np.argmin(distances, axis=1)\n",
    "            if (last_nearest == current_nearest).all():\n",
    "                break  # clusters won't change\n",
    "            for cluster in range(k):\n",
    "                clusters[cluster] = dist(  # update clusters\n",
    "                    boxes[current_nearest == cluster], axis=0)\n",
    "\n",
    "            last_nearest = current_nearest\n",
    "\n",
    "        return clusters\n",
    "\n",
    "    def result2txt(self, data):\n",
    "        f = open(\"yolo_anchors.txt\", 'w')\n",
    "        row = np.shape(data)[0]\n",
    "        for i in range(row):\n",
    "            if i == 0:\n",
    "                x_y = \"%d,%d\" % (data[i][0], data[i][1])\n",
    "            else:\n",
    "                x_y = \", %d,%d\" % (data[i][0], data[i][1])\n",
    "            f.write(x_y)\n",
    "        f.close()\n",
    "\n",
    "    def txt2boxes(self):\n",
    "        result = []\n",
    "        for boxes in self.boxes:\n",
    "            for box in boxes:\n",
    "                width = box[2]-box[0]\n",
    "                height = box[3]-box[1]\n",
    "                result.append([width, height])\n",
    "        result = np.array(result)\n",
    "        return result\n",
    "\n",
    "    def txt2clusters(self):\n",
    "        all_boxes = self.txt2boxes()\n",
    "        result = self.kmeans(all_boxes, k=self.cluster_number)\n",
    "        result = result[np.lexsort(result.T[0, None])]\n",
    "        self.result2txt(result)\n",
    "        print(\"K anchors:\\n {}\".format(result))\n",
    "        print(\"Accuracy: {:.2f}%\".format(\n",
    "            self.avg_iou(all_boxes, result) * 100))"
   ]
  },
  {
   "cell_type": "code",
   "execution_count": 31,
   "metadata": {},
   "outputs": [],
   "source": [
    "cluster_number = 9\n",
    "kmeans = YOLO_Kmeans(cluster_number,output_list)"
   ]
  },
  {
   "cell_type": "code",
   "execution_count": 32,
   "metadata": {},
   "outputs": [
    {
     "name": "stdout",
     "output_type": "stream",
     "text": [
      "K anchors:\n",
      " [[ 28.66   23.55 ]\n",
      " [ 39.33   31.863]\n",
      " [ 54.27   39.55 ]\n",
      " [ 66.64   56.403]\n",
      " [ 92.67   85.2  ]\n",
      " [ 93.73   48.72 ]\n",
      " [131.07   62.8  ]\n",
      " [159.87  105.68 ]\n",
      " [236.88  165.68 ]]\n",
      "Accuracy: 78.24%\n"
     ]
    }
   ],
   "source": [
    "kmeans.txt2clusters()"
   ]
  },
  {
   "cell_type": "code",
   "execution_count": 33,
   "metadata": {},
   "outputs": [
    {
     "ename": "TypeError",
     "evalue": "'int' object is not subscriptable",
     "output_type": "error",
     "traceback": [
      "\u001b[0;31m---------------------------------------------------------------------------\u001b[0m",
      "\u001b[0;31mTypeError\u001b[0m                                 Traceback (most recent call last)",
      "\u001b[0;32m<ipython-input-33-01b188ea9fd8>\u001b[0m in \u001b[0;36m<module>\u001b[0;34m\u001b[0m\n\u001b[0;32m----> 1\u001b[0;31m \u001b[0miou\u001b[0m\u001b[0;34m(\u001b[0m\u001b[0mall_box_value\u001b[0m\u001b[0;34m,\u001b[0m \u001b[0;36m9\u001b[0m\u001b[0;34m)\u001b[0m\u001b[0;34m\u001b[0m\u001b[0m\n\u001b[0m",
      "\u001b[0;32m<ipython-input-18-7397c8dc6f8e>\u001b[0m in \u001b[0;36miou\u001b[0;34m(boxes, clusters)\u001b[0m\n\u001b[1;32m      7\u001b[0m     \u001b[0mbox_area\u001b[0m \u001b[0;34m=\u001b[0m \u001b[0mnp\u001b[0m\u001b[0;34m.\u001b[0m\u001b[0mreshape\u001b[0m\u001b[0;34m(\u001b[0m\u001b[0mbox_area\u001b[0m\u001b[0;34m,\u001b[0m \u001b[0;34m(\u001b[0m\u001b[0mn\u001b[0m\u001b[0;34m,\u001b[0m \u001b[0mk\u001b[0m\u001b[0;34m)\u001b[0m\u001b[0;34m)\u001b[0m\u001b[0;34m\u001b[0m\u001b[0m\n\u001b[1;32m      8\u001b[0m \u001b[0;34m\u001b[0m\u001b[0m\n\u001b[0;32m----> 9\u001b[0;31m     \u001b[0mcluster_area\u001b[0m \u001b[0;34m=\u001b[0m \u001b[0mclusters\u001b[0m\u001b[0;34m[\u001b[0m\u001b[0;34m:\u001b[0m\u001b[0;34m,\u001b[0m \u001b[0;36m0\u001b[0m\u001b[0;34m]\u001b[0m \u001b[0;34m*\u001b[0m \u001b[0mclusters\u001b[0m\u001b[0;34m[\u001b[0m\u001b[0;34m:\u001b[0m\u001b[0;34m,\u001b[0m \u001b[0;36m1\u001b[0m\u001b[0;34m]\u001b[0m\u001b[0;34m\u001b[0m\u001b[0m\n\u001b[0m\u001b[1;32m     10\u001b[0m     \u001b[0mcluster_area\u001b[0m \u001b[0;34m=\u001b[0m \u001b[0mnp\u001b[0m\u001b[0;34m.\u001b[0m\u001b[0mtile\u001b[0m\u001b[0;34m(\u001b[0m\u001b[0mcluster_area\u001b[0m\u001b[0;34m,\u001b[0m \u001b[0;34m[\u001b[0m\u001b[0;36m1\u001b[0m\u001b[0;34m,\u001b[0m \u001b[0mn\u001b[0m\u001b[0;34m]\u001b[0m\u001b[0;34m)\u001b[0m\u001b[0;34m\u001b[0m\u001b[0m\n\u001b[1;32m     11\u001b[0m     \u001b[0mcluster_area\u001b[0m \u001b[0;34m=\u001b[0m \u001b[0mnp\u001b[0m\u001b[0;34m.\u001b[0m\u001b[0mreshape\u001b[0m\u001b[0;34m(\u001b[0m\u001b[0mcluster_area\u001b[0m\u001b[0;34m,\u001b[0m \u001b[0;34m(\u001b[0m\u001b[0mn\u001b[0m\u001b[0;34m,\u001b[0m \u001b[0mk\u001b[0m\u001b[0;34m)\u001b[0m\u001b[0;34m)\u001b[0m\u001b[0;34m\u001b[0m\u001b[0m\n",
      "\u001b[0;31mTypeError\u001b[0m: 'int' object is not subscriptable"
     ]
    }
   ],
   "source": [
    "iou(all_box_value, 9)"
   ]
  },
  {
   "cell_type": "code",
   "execution_count": null,
   "metadata": {},
   "outputs": [],
   "source": []
  }
 ],
 "metadata": {
  "kernelspec": {
   "display_name": "Python 3",
   "language": "python",
   "name": "python3"
  },
  "language_info": {
   "codemirror_mode": {
    "name": "ipython",
    "version": 3
   },
   "file_extension": ".py",
   "mimetype": "text/x-python",
   "name": "python",
   "nbconvert_exporter": "python",
   "pygments_lexer": "ipython3",
   "version": "3.5.2"
  }
 },
 "nbformat": 4,
 "nbformat_minor": 4
}
